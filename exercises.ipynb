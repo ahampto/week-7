{
 "cells": [
  {
   "cell_type": "markdown",
   "id": "ff33995d",
   "metadata": {},
   "source": [
    "# Exercises\n",
    "\n",
    "For these exercises, you'll be making adjustments to the *loader.py* file and the *test_loader.py* file. You're welcome to adjust the app.py file or the apputil.py file, but this is completely optional.\n",
    "\n",
    "Before you start this exercise, make sure you're familiar with the reading assigned in Canvas.\n",
    "\n",
    "## Exercise 1\n",
    "\n",
    "There are a few issues with the *loader.py* file. Use the VS Code debugger to find the issues, and adjust for them appropriately (e.g., using try-except, renaming variables, rewriting code, etc.). As always, make sure your code aligns with PEP-8 as much as you can.\n",
    "\n",
    "<font color='lightblue'>\n",
    "\n",
    "### Note\n",
    "\n",
    "In the debugger menu on the left, under \"BREAKPOINTS\", there are a few options:\n",
    "\n",
    "- **Raised Exceptions**:\n",
    "    - This will cause the debugger to stop when an exception is raised *before* the next line, *even if* you handle it with an `except` clause.\n",
    "- **Uncaught Exceptions**:\n",
    "    - This will only cause the debugger to stop if an exception (error) is not handled with an `except` clause. (So, in other words, the debugger \"checks\" for one first.)\n",
    "- **User Uncaught Exceptions**:\n",
    "    - This is regarding errors that exist *within* imported packages.\n",
    "- **\\[filename.py\\]**:\n",
    "    - When you add breakpoints to a file, it will be indicated here.\n",
    "\n",
    "I recommend only selecting *\"Uncaught Exceptions\"* (and adding in your own breakpoints). This way, you can focus only on errors that are being missed. Also, make sure to take advantage of the Debugger Console in the terminal section of VS Code! It is a nice way to interact with your code as it's being run.\n",
    "</font>\n"
   ]
  },
  {
   "cell_type": "markdown",
   "id": "cd44ec6a",
   "metadata": {},
   "source": [
    "## Exercise 2\n",
    "\n",
    "In the *test_loader.py* file, write a `test_valid_locations` test function to validate that the loader script correctly gathers the following known locations (gathered from [Google Maps](https://support.google.com/maps/answer/18539)):\n",
    "\n",
    "Location | Latitude | Longitude | Type\n",
    "--- | --- | --- | ---\n",
    "Museum of Modern Art | 40.7618552 | -73.9782438 | Museum\n",
    "USS Alabama Battleship Memorial Park | 30.684373 | -88.015316 | Park\n"
   ]
  },
  {
   "cell_type": "markdown",
   "id": "84d3ba51",
   "metadata": {},
   "source": [
    "## Exercise 3\n",
    "\n",
    "Location strings like *\"asdfqwer1234\"* do not exist, so they should reflect NA values for everything except the location name in the final DataFrame. For example, we *should* have the following:\n",
    "\n",
    "Location | Latitude | Longitude | Type\n",
    "--- | --- | --- | ---\n",
    "asdfqwer1234 | nan | nan | nan\n",
    "\n",
    "Notice that the `test_invalid_location` in the *test_loader.py* file is *attempting* to test for this issue, but it is not quite right. Adjust this function to ensure the output data reflects NA values as described.\n",
    "\n",
    "*Hint: Depending on how you adjust your code, `None` might not be what to test for ...*\n"
   ]
  },
  {
   "cell_type": "markdown",
   "id": "524a0acd",
   "metadata": {},
   "source": [
    "## Exercise 4\n",
    "\n",
    "Run your *test_loader.py* script **in this notebook**, and make sure your *loader.py* file passes all tests.\n",
    "\n",
    "<font color='darkorange'>**Make sure the output of the next cell is visible from this notebook.**</font>"
   ]
  },
  {
   "cell_type": "code",
   "execution_count": null,
   "id": "a2a73d3d",
   "metadata": {},
   "outputs": [
    {
     "name": "stdout",
     "output_type": "stream",
     "text": [
      "test_invalid_location (__main__.TestLoader.test_invalid_location) ... ok\n",
      "test_valid_locations (__main__.TestLoader.test_valid_locations) ... ok\n",
      "\n",
      "----------------------------------------------------------------------\n",
      "Ran 2 tests in 0.275s\n",
      "\n",
      "OK\n"
     ]
    }
   ],
   "source": [
    "!python test_loader.py -v"
   ]
  },
  {
   "cell_type": "markdown",
   "id": "a31fe569",
   "metadata": {},
   "source": [
    "## Bonus\n",
    "\n",
    "Notice that this loader script could be written in the form of a Python class. Adjust the code so that it uses Python classes properly."
   ]
  }
 ],
 "metadata": {
  "kernelspec": {
   "display_name": "base",
   "language": "python",
   "name": "python3"
  },
  "language_info": {
   "codemirror_mode": {
    "name": "ipython",
    "version": 3
   },
   "file_extension": ".py",
   "mimetype": "text/x-python",
   "name": "python",
   "nbconvert_exporter": "python",
   "pygments_lexer": "ipython3",
   "version": "3.11.13"
  }
 },
 "nbformat": 4,
 "nbformat_minor": 5
}
